{
 "cells": [
  {
   "cell_type": "markdown",
   "id": "9dcca774",
   "metadata": {},
   "source": [
    "# Amazon Best Selling Books - Data Exploration"
   ]
  },
  {
   "cell_type": "markdown",
   "id": "b57d9537",
   "metadata": {},
   "source": [
    "# Introduction\n",
    "\n",
    "Amazon, one of the largest e-commerce platforms globally, started its journey in a garage in Seattle. Under the leadership of Jeff Bezos, Amazon evolved from an online bookstore into a marketplace where customers can purchase nearly anything, both physical and digital. Despite its vast expansion, Amazon remains the largest online bookstore.\n",
    "\n",
    "Launched in July 1995, Amazon promoted itself as \"Earth's Biggest Bookstore\" and quickly gained traction by leveraging partnerships with major book distributors and wholesalers to fulfill orders efficiently.\n",
    "\n",
    "# Project Objective\n",
    "\n",
    "This project aims to analyze the best-selling books on Amazon from 2009 to 2023. The dataset, scraped from the Amazon website, will help derive insights into key trends and performance metrics. The primary questions we seek to answer include:\n",
    "\n",
    "Genre Distribution of Unique Best Sellers: How many Fiction versus Non-Fiction books were best sellers on Amazon between 2009 and 2023?\n",
    "\n",
    "Genre Distribution by Year: How many Fiction and Non-Fiction best sellers were there each year?\n",
    "\n",
    "Top 10 Authors: Which authors appeared most frequently on the best-seller list from 2009 to 2023?\n",
    "\n",
    "Top 10 Books: Which books made the most appearances on the best-seller list during this period?\n",
    "\n",
    "Relationship Between Reviews and Price: Is there a trend between the price of books and the reviews they receive? For example, do lower-priced books tend to receive better reviews?\n",
    "\n",
    "Genre Performance Based on Reviews: Do Fiction books generally receive more ratings than Non-Fiction books?\n",
    "\n",
    "Price Trends Over Time: How did book prices change between 2009 and 2023? Did prices increase or decrease over the years?\n",
    "\n",
    "Top 20 Authors with Highest User Ratings: Which authors received the highest average user ratings?\n",
    "\n",
    "Top 20 Authors with the Most Reviews: Which authors had the most customer reviews?\n",
    "\n",
    "Book Title Length and User Ratings: Is there a correlation between the length of a book’s title and its user ratings? Do shorter titles receive higher ratings?\n",
    "\n",
    "Top 10 Best-Selling Authors by Genre and Frequency: Who are the top-selling authors, categorized by genre and number of appearances?\n",
    "\n",
    "Top 10 Books Based on User Ratings: Which books had the highest average user ratings?\n",
    "\n",
    "Top 10 Books Based on Reviews: Which books received the most reviews?\n",
    "\n",
    "Top 10 Best-Selling Books by Genre and Number of Reviews: Which books, sorted by genre, garnered the highest number of reviews?"
   ]
  },
  {
   "cell_type": "code",
   "execution_count": 2,
   "id": "9c40d002",
   "metadata": {},
   "outputs": [],
   "source": [
    "# Import necessary packages for data analysis and web scraping\n",
    "\n",
    "# Data manipulation and analysis packages\n",
    "import numpy as np\n",
    "import pandas as pd\n",
    "\n",
    "# Web scraping packages\n",
    "import requests\n",
    "from selenium import webdriver\n",
    "from bs4 import BeautifulSoup\n",
    "from urllib.request import urlopen\n",
    "from time import sleep\n",
    "\n",
    "# Suppress warnings\n",
    "import warnings\n",
    "warnings.filterwarnings('ignore')"
   ]
  },
  {
   "cell_type": "code",
   "execution_count": 3,
   "id": "139b9e92",
   "metadata": {},
   "outputs": [],
   "source": [
    "\n",
    "# Set display options for better DataFrame visualization\n",
    "pd.set_option('display.max_rows', 500)\n",
    "pd.set_option('display.max_columns', 500)\n",
    "pd.set_option('display.width', 1000)"
   ]
  },
  {
   "cell_type": "markdown",
   "id": "37e14b53",
   "metadata": {},
   "source": [
    "# Gathering the Data"
   ]
  },
  {
   "cell_type": "markdown",
   "id": "081f53ed",
   "metadata": {},
   "source": [
    "###### Let's get the urls and the second page for each year beginning from 2009 to 2021"
   ]
  },
  {
   "cell_type": "code",
   "execution_count": 6,
   "id": "d514ecb2",
   "metadata": {},
   "outputs": [
    {
     "name": "stdout",
     "output_type": "stream",
     "text": [
      "['https://www.amazon.com/gp/bestsellers/2009/books', 'https://www.amazon.com/gp/bestsellers/2009/books/ref=zg_bsar_pg_2?ie=UTF8&pg=2', 'https://www.amazon.com/gp/bestsellers/2010/books', 'https://www.amazon.com/gp/bestsellers/2010/books/ref=zg_bsar_pg_2?ie=UTF8&pg=2', 'https://www.amazon.com/gp/bestsellers/2011/books', 'https://www.amazon.com/gp/bestsellers/2011/books/ref=zg_bsar_pg_2?ie=UTF8&pg=2', 'https://www.amazon.com/gp/bestsellers/2012/books', 'https://www.amazon.com/gp/bestsellers/2012/books/ref=zg_bsar_pg_2?ie=UTF8&pg=2', 'https://www.amazon.com/gp/bestsellers/2013/books', 'https://www.amazon.com/gp/bestsellers/2013/books/ref=zg_bsar_pg_2?ie=UTF8&pg=2', 'https://www.amazon.com/gp/bestsellers/2014/books', 'https://www.amazon.com/gp/bestsellers/2014/books/ref=zg_bsar_pg_2?ie=UTF8&pg=2', 'https://www.amazon.com/gp/bestsellers/2015/books', 'https://www.amazon.com/gp/bestsellers/2015/books/ref=zg_bsar_pg_2?ie=UTF8&pg=2', 'https://www.amazon.com/gp/bestsellers/2016/books', 'https://www.amazon.com/gp/bestsellers/2016/books/ref=zg_bsar_pg_2?ie=UTF8&pg=2', 'https://www.amazon.com/gp/bestsellers/2017/books', 'https://www.amazon.com/gp/bestsellers/2017/books/ref=zg_bsar_pg_2?ie=UTF8&pg=2', 'https://www.amazon.com/gp/bestsellers/2018/books', 'https://www.amazon.com/gp/bestsellers/2018/books/ref=zg_bsar_pg_2?ie=UTF8&pg=2', 'https://www.amazon.com/gp/bestsellers/2019/books', 'https://www.amazon.com/gp/bestsellers/2019/books/ref=zg_bsar_pg_2?ie=UTF8&pg=2', 'https://www.amazon.com/gp/bestsellers/2020/books', 'https://www.amazon.com/gp/bestsellers/2020/books/ref=zg_bsar_pg_2?ie=UTF8&pg=2', 'https://www.amazon.com/gp/bestsellers/2021/books', 'https://www.amazon.com/gp/bestsellers/2021/books/ref=zg_bsar_pg_2?ie=UTF8&pg=2', 'https://www.amazon.com/gp/bestsellers/2022/books', 'https://www.amazon.com/gp/bestsellers/2022/books/ref=zg_bsar_pg_2?ie=UTF8&pg=2', 'https://www.amazon.com/gp/bestsellers/2023/books', 'https://www.amazon.com/gp/bestsellers/2023/books/ref=zg_bsar_pg_2?ie=UTF8&pg=2']\n"
     ]
    }
   ],
   "source": [
    "# Generate a list of URLs for Amazon's best-selling books for the years 2009-2022\n",
    "\n",
    "# Initialize an empty list to store URLs\n",
    "urls = []\n",
    "\n",
    "# Create a list of years from 2009 to 2023 as strings\n",
    "years = [str(i) for i in range(2009, 2024)]\n",
    "\n",
    "# Loop through each year and generate the URLs for the first and second pages\n",
    "for year in years:\n",
    "    # URL for the first page of best sellers for the given year\n",
    "    urls.append(f\"https://www.amazon.com/gp/bestsellers/{year}/books\")\n",
    "    \n",
    "    # URL for the second page of best sellers for the given year\n",
    "    urls.append(f\"https://www.amazon.com/gp/bestsellers/{year}/books/ref=zg_bsar_pg_2?ie=UTF8&pg=2\")\n",
    "\n",
    "print(urls)"
   ]
  },
  {
   "cell_type": "markdown",
   "id": "f5a4a874",
   "metadata": {},
   "source": [
    "###### Let's use this function to get the details for each book in each year\n",
    "\n",
    "###### Steps:\n",
    "###### Access the URLs: Loop through the URLs for different years.\n",
    "###### Scrape each book’s details: For each year, extract book details by calling the get_dir function.\n",
    "###### Store the data: Append the results into a list or DataFrame."
   ]
  },
  {
   "cell_type": "code",
   "execution_count": 7,
   "id": "ed5f6852",
   "metadata": {},
   "outputs": [],
   "source": [
    "def get_dir(book, year):\n",
    "    '''Extracts details for each book for a given year'''\n",
    "    \n",
    "    # Helper function to extract text safely\n",
    "    def safe_find(selector, class_name, slice_text=None):\n",
    "        try:\n",
    "            result = book.find(selector, class_=class_name).text\n",
    "            if slice_text:\n",
    "                result = result[slice_text]\n",
    "            return result\n",
    "        except Exception:\n",
    "            return np.nan\n",
    "\n",
    "    # Extracting book details using the helper function\n",
    "    price = safe_find('span', \"_cDEzb_p13n-sc-price_3mJ9Z\", slice_text=slice(1, None))\n",
    "    ranks = safe_find('span', 'zg-bdg-text', slice_text=slice(1, None))\n",
    "    title = safe_find('div', \"_cDEzb_p13n-sc-css-line-clamp-1_1Fn1y\")\n",
    "    ratings = safe_find('span', \"a-icon-alt\", slice_text=slice(0, 3))\n",
    "    no_of_reviews = safe_find('span', \"a-size-small\")\n",
    "    author = safe_find('a', \"a-size-small a-link-child\")\n",
    "    cover_type = safe_find('span', \"a-size-small a-color-secondary a-text-normal\")\n",
    "    \n",
    "    # Return the details as a list\n",
    "    return [price, ranks, title, no_of_reviews, ratings, author, cover_type, year]\n"
   ]
  },
  {
   "cell_type": "markdown",
   "id": "b77b7c7c",
   "metadata": {},
   "source": [
    "###### Let's get the year for the first and second page"
   ]
  },
  {
   "cell_type": "code",
   "execution_count": 8,
   "id": "e6aa996a",
   "metadata": {},
   "outputs": [],
   "source": [
    "# List of years for first and second page URLs (2009 to 2023)\n",
    "years = [str(i) for i in range(2009, 2024)] * 2  # Flattened list of years for URL generation\n"
   ]
  },
  {
   "cell_type": "markdown",
   "id": "80405020",
   "metadata": {},
   "source": [
    "###### Let's get the books in every page(first and second) of every year from year 2009- 2021\n",
    "###### Note that this cell takes about 25 minutes to run, so you will have to exercise patience"
   ]
  },
  {
   "cell_type": "code",
   "execution_count": 13,
   "id": "2034a839",
   "metadata": {},
   "outputs": [
    {
     "ename": "AttributeError",
     "evalue": "'str' object has no attribute 'capabilities'",
     "output_type": "error",
     "traceback": [
      "\u001b[1;31m---------------------------------------------------------------------------\u001b[0m",
      "\u001b[1;31mAttributeError\u001b[0m                            Traceback (most recent call last)",
      "Cell \u001b[1;32mIn[13], line 11\u001b[0m\n\u001b[0;32m      8\u001b[0m \u001b[38;5;66;03m# Loop through each URL and extract book data from the first and second pages\u001b[39;00m\n\u001b[0;32m      9\u001b[0m \u001b[38;5;28;01mfor\u001b[39;00m url \u001b[38;5;129;01min\u001b[39;00m urls:\n\u001b[0;32m     10\u001b[0m     \u001b[38;5;66;03m# Initialize WebDriver for Chrome (make sure to replace the path with the correct one for your system)\u001b[39;00m\n\u001b[1;32m---> 11\u001b[0m     driver \u001b[38;5;241m=\u001b[39m \u001b[43mwebdriver\u001b[49m\u001b[38;5;241;43m.\u001b[39;49m\u001b[43mChrome\u001b[49m\u001b[43m(\u001b[49m\u001b[38;5;124;43m\"\u001b[39;49m\u001b[38;5;124;43mC:/webDrivers/chromedriver.exe\u001b[39;49m\u001b[38;5;124;43m\"\u001b[39;49m\u001b[43m)\u001b[49m\n\u001b[0;32m     13\u001b[0m     \u001b[38;5;66;03m# Load the webpage\u001b[39;00m\n\u001b[0;32m     14\u001b[0m     driver\u001b[38;5;241m.\u001b[39mget(url)\n",
      "File \u001b[1;32mc:\\Users\\aishw\\anaconda3\\envs\\ds\\lib\\site-packages\\selenium\\webdriver\\chrome\\webdriver.py:45\u001b[0m, in \u001b[0;36mWebDriver.__init__\u001b[1;34m(self, options, service, keep_alive)\u001b[0m\n\u001b[0;32m     42\u001b[0m service \u001b[38;5;241m=\u001b[39m service \u001b[38;5;28;01mif\u001b[39;00m service \u001b[38;5;28;01melse\u001b[39;00m Service()\n\u001b[0;32m     43\u001b[0m options \u001b[38;5;241m=\u001b[39m options \u001b[38;5;28;01mif\u001b[39;00m options \u001b[38;5;28;01melse\u001b[39;00m Options()\n\u001b[1;32m---> 45\u001b[0m \u001b[38;5;28;43msuper\u001b[39;49m\u001b[43m(\u001b[49m\u001b[43m)\u001b[49m\u001b[38;5;241;43m.\u001b[39;49m\u001b[38;5;21;43m__init__\u001b[39;49m\u001b[43m(\u001b[49m\n\u001b[0;32m     46\u001b[0m \u001b[43m    \u001b[49m\u001b[43mbrowser_name\u001b[49m\u001b[38;5;241;43m=\u001b[39;49m\u001b[43mDesiredCapabilities\u001b[49m\u001b[38;5;241;43m.\u001b[39;49m\u001b[43mCHROME\u001b[49m\u001b[43m[\u001b[49m\u001b[38;5;124;43m\"\u001b[39;49m\u001b[38;5;124;43mbrowserName\u001b[39;49m\u001b[38;5;124;43m\"\u001b[39;49m\u001b[43m]\u001b[49m\u001b[43m,\u001b[49m\n\u001b[0;32m     47\u001b[0m \u001b[43m    \u001b[49m\u001b[43mvendor_prefix\u001b[49m\u001b[38;5;241;43m=\u001b[39;49m\u001b[38;5;124;43m\"\u001b[39;49m\u001b[38;5;124;43mgoog\u001b[39;49m\u001b[38;5;124;43m\"\u001b[39;49m\u001b[43m,\u001b[49m\n\u001b[0;32m     48\u001b[0m \u001b[43m    \u001b[49m\u001b[43moptions\u001b[49m\u001b[38;5;241;43m=\u001b[39;49m\u001b[43moptions\u001b[49m\u001b[43m,\u001b[49m\n\u001b[0;32m     49\u001b[0m \u001b[43m    \u001b[49m\u001b[43mservice\u001b[49m\u001b[38;5;241;43m=\u001b[39;49m\u001b[43mservice\u001b[49m\u001b[43m,\u001b[49m\n\u001b[0;32m     50\u001b[0m \u001b[43m    \u001b[49m\u001b[43mkeep_alive\u001b[49m\u001b[38;5;241;43m=\u001b[39;49m\u001b[43mkeep_alive\u001b[49m\u001b[43m,\u001b[49m\n\u001b[0;32m     51\u001b[0m \u001b[43m\u001b[49m\u001b[43m)\u001b[49m\n",
      "File \u001b[1;32mc:\\Users\\aishw\\anaconda3\\envs\\ds\\lib\\site-packages\\selenium\\webdriver\\chromium\\webdriver.py:50\u001b[0m, in \u001b[0;36mChromiumDriver.__init__\u001b[1;34m(self, browser_name, vendor_prefix, options, service, keep_alive)\u001b[0m\n\u001b[0;32m     47\u001b[0m \u001b[38;5;28mself\u001b[39m\u001b[38;5;241m.\u001b[39mservice \u001b[38;5;241m=\u001b[39m service\n\u001b[0;32m     49\u001b[0m finder \u001b[38;5;241m=\u001b[39m DriverFinder(\u001b[38;5;28mself\u001b[39m\u001b[38;5;241m.\u001b[39mservice, options)\n\u001b[1;32m---> 50\u001b[0m \u001b[38;5;28;01mif\u001b[39;00m \u001b[43mfinder\u001b[49m\u001b[38;5;241;43m.\u001b[39;49m\u001b[43mget_browser_path\u001b[49m\u001b[43m(\u001b[49m\u001b[43m)\u001b[49m:\n\u001b[0;32m     51\u001b[0m     options\u001b[38;5;241m.\u001b[39mbinary_location \u001b[38;5;241m=\u001b[39m finder\u001b[38;5;241m.\u001b[39mget_browser_path()\n\u001b[0;32m     52\u001b[0m     options\u001b[38;5;241m.\u001b[39mbrowser_version \u001b[38;5;241m=\u001b[39m \u001b[38;5;28;01mNone\u001b[39;00m\n",
      "File \u001b[1;32mc:\\Users\\aishw\\anaconda3\\envs\\ds\\lib\\site-packages\\selenium\\webdriver\\common\\driver_finder.py:47\u001b[0m, in \u001b[0;36mDriverFinder.get_browser_path\u001b[1;34m(self)\u001b[0m\n\u001b[0;32m     46\u001b[0m \u001b[38;5;28;01mdef\u001b[39;00m \u001b[38;5;21mget_browser_path\u001b[39m(\u001b[38;5;28mself\u001b[39m) \u001b[38;5;241m-\u001b[39m\u001b[38;5;241m>\u001b[39m \u001b[38;5;28mstr\u001b[39m:\n\u001b[1;32m---> 47\u001b[0m     \u001b[38;5;28;01mreturn\u001b[39;00m \u001b[38;5;28;43mself\u001b[39;49m\u001b[38;5;241;43m.\u001b[39;49m\u001b[43m_binary_paths\u001b[49m\u001b[43m(\u001b[49m\u001b[43m)\u001b[49m[\u001b[38;5;124m\"\u001b[39m\u001b[38;5;124mbrowser_path\u001b[39m\u001b[38;5;124m\"\u001b[39m]\n",
      "File \u001b[1;32mc:\\Users\\aishw\\anaconda3\\envs\\ds\\lib\\site-packages\\selenium\\webdriver\\common\\driver_finder.py:56\u001b[0m, in \u001b[0;36mDriverFinder._binary_paths\u001b[1;34m(self)\u001b[0m\n\u001b[0;32m     53\u001b[0m \u001b[38;5;28;01mif\u001b[39;00m \u001b[38;5;28mself\u001b[39m\u001b[38;5;241m.\u001b[39m_paths[\u001b[38;5;124m\"\u001b[39m\u001b[38;5;124mdriver_path\u001b[39m\u001b[38;5;124m\"\u001b[39m]:\n\u001b[0;32m     54\u001b[0m     \u001b[38;5;28;01mreturn\u001b[39;00m \u001b[38;5;28mself\u001b[39m\u001b[38;5;241m.\u001b[39m_paths\n\u001b[1;32m---> 56\u001b[0m browser \u001b[38;5;241m=\u001b[39m \u001b[38;5;28;43mself\u001b[39;49m\u001b[38;5;241;43m.\u001b[39;49m\u001b[43m_options\u001b[49m\u001b[38;5;241;43m.\u001b[39;49m\u001b[43mcapabilities\u001b[49m[\u001b[38;5;124m\"\u001b[39m\u001b[38;5;124mbrowserName\u001b[39m\u001b[38;5;124m\"\u001b[39m]\n\u001b[0;32m     57\u001b[0m \u001b[38;5;28;01mtry\u001b[39;00m:\n\u001b[0;32m     58\u001b[0m     path \u001b[38;5;241m=\u001b[39m \u001b[38;5;28mself\u001b[39m\u001b[38;5;241m.\u001b[39m_service\u001b[38;5;241m.\u001b[39mpath\n",
      "\u001b[1;31mAttributeError\u001b[0m: 'str' object has no attribute 'capabilities'"
     ]
    }
   ],
   "source": [
    "# List to store book data from both pages for each year\n",
    "all_years_books = []\n",
    "\n",
    "from time import sleep\n",
    "from selenium import webdriver\n",
    "from bs4 import BeautifulSoup\n",
    "\n",
    "# Loop through each URL and extract book data from the first and second pages\n",
    "for url in urls:\n",
    "    # Initialize WebDriver for Chrome (make sure to replace the path with the correct one for your system)\n",
    "    driver = webdriver.Chrome(\"C:/webDrivers/chromedriver.exe\")\n",
    "    \n",
    "    # Load the webpage\n",
    "    driver.get(url)\n",
    "    \n",
    "    # Wait for the webpage to load completely (increase or decrease based on your network speed)\n",
    "    sleep(30)\n",
    "    \n",
    "    # Parse the page content using BeautifulSoup\n",
    "    soup = BeautifulSoup(driver.page_source, 'html.parser')\n",
    "    \n",
    "    # Find all the books on the page by their element id\n",
    "    books = soup.find_all(id='gridItemRoot')\n",
    "    \n",
    "    # Append the book data to the all_years_books list\n",
    "    all_years_books.append(books)\n",
    "    \n",
    "    # Close the browser after extracting the data\n",
    "    driver.quit()\n",
    "\n",
    "# Print statement (optional) to check that the books were collected properly\n",
    "# print(all_years_books)"
   ]
  },
  {
   "cell_type": "code",
   "execution_count": 12,
   "id": "1f7ab8f3",
   "metadata": {},
   "outputs": [
    {
     "ename": "NoSuchDriverException",
     "evalue": "Message: Unable to obtain driver for chrome; For documentation on this error, please visit: https://www.selenium.dev/documentation/webdriver/troubleshooting/errors/driver_location\n",
     "output_type": "error",
     "traceback": [
      "\u001b[1;31m---------------------------------------------------------------------------\u001b[0m",
      "\u001b[1;31mValueError\u001b[0m                                Traceback (most recent call last)",
      "File \u001b[1;32mc:\\Users\\aishw\\anaconda3\\envs\\ds\\lib\\site-packages\\selenium\\webdriver\\common\\driver_finder.py:64\u001b[0m, in \u001b[0;36mDriverFinder._binary_paths\u001b[1;34m(self)\u001b[0m\n\u001b[0;32m     63\u001b[0m \u001b[38;5;28;01mif\u001b[39;00m \u001b[38;5;129;01mnot\u001b[39;00m Path(path)\u001b[38;5;241m.\u001b[39mis_file():\n\u001b[1;32m---> 64\u001b[0m     \u001b[38;5;28;01mraise\u001b[39;00m \u001b[38;5;167;01mValueError\u001b[39;00m(\u001b[38;5;124mf\u001b[39m\u001b[38;5;124m\"\u001b[39m\u001b[38;5;124mThe path is not a valid file: \u001b[39m\u001b[38;5;132;01m{\u001b[39;00mpath\u001b[38;5;132;01m}\u001b[39;00m\u001b[38;5;124m\"\u001b[39m)\n\u001b[0;32m     65\u001b[0m \u001b[38;5;28mself\u001b[39m\u001b[38;5;241m.\u001b[39m_paths[\u001b[38;5;124m\"\u001b[39m\u001b[38;5;124mdriver_path\u001b[39m\u001b[38;5;124m\"\u001b[39m] \u001b[38;5;241m=\u001b[39m path\n",
      "\u001b[1;31mValueError\u001b[0m: The path is not a valid file: C:/webDrivers/chromedriver.exe",
      "\nThe above exception was the direct cause of the following exception:\n",
      "\u001b[1;31mNoSuchDriverException\u001b[0m                     Traceback (most recent call last)",
      "Cell \u001b[1;32mIn[12], line 11\u001b[0m\n\u001b[0;32m      8\u001b[0m service \u001b[38;5;241m=\u001b[39m Service(executable_path\u001b[38;5;241m=\u001b[39mchrome_driver_path)\n\u001b[0;32m     10\u001b[0m \u001b[38;5;66;03m# Initialize the WebDriver with the service\u001b[39;00m\n\u001b[1;32m---> 11\u001b[0m driver \u001b[38;5;241m=\u001b[39m \u001b[43mwebdriver\u001b[49m\u001b[38;5;241;43m.\u001b[39;49m\u001b[43mChrome\u001b[49m\u001b[43m(\u001b[49m\u001b[43mservice\u001b[49m\u001b[38;5;241;43m=\u001b[39;49m\u001b[43mservice\u001b[49m\u001b[43m)\u001b[49m\n\u001b[0;32m     13\u001b[0m \u001b[38;5;66;03m# Now you can use the driver as usual\u001b[39;00m\n",
      "File \u001b[1;32mc:\\Users\\aishw\\anaconda3\\envs\\ds\\lib\\site-packages\\selenium\\webdriver\\chrome\\webdriver.py:45\u001b[0m, in \u001b[0;36mWebDriver.__init__\u001b[1;34m(self, options, service, keep_alive)\u001b[0m\n\u001b[0;32m     42\u001b[0m service \u001b[38;5;241m=\u001b[39m service \u001b[38;5;28;01mif\u001b[39;00m service \u001b[38;5;28;01melse\u001b[39;00m Service()\n\u001b[0;32m     43\u001b[0m options \u001b[38;5;241m=\u001b[39m options \u001b[38;5;28;01mif\u001b[39;00m options \u001b[38;5;28;01melse\u001b[39;00m Options()\n\u001b[1;32m---> 45\u001b[0m \u001b[38;5;28;43msuper\u001b[39;49m\u001b[43m(\u001b[49m\u001b[43m)\u001b[49m\u001b[38;5;241;43m.\u001b[39;49m\u001b[38;5;21;43m__init__\u001b[39;49m\u001b[43m(\u001b[49m\n\u001b[0;32m     46\u001b[0m \u001b[43m    \u001b[49m\u001b[43mbrowser_name\u001b[49m\u001b[38;5;241;43m=\u001b[39;49m\u001b[43mDesiredCapabilities\u001b[49m\u001b[38;5;241;43m.\u001b[39;49m\u001b[43mCHROME\u001b[49m\u001b[43m[\u001b[49m\u001b[38;5;124;43m\"\u001b[39;49m\u001b[38;5;124;43mbrowserName\u001b[39;49m\u001b[38;5;124;43m\"\u001b[39;49m\u001b[43m]\u001b[49m\u001b[43m,\u001b[49m\n\u001b[0;32m     47\u001b[0m \u001b[43m    \u001b[49m\u001b[43mvendor_prefix\u001b[49m\u001b[38;5;241;43m=\u001b[39;49m\u001b[38;5;124;43m\"\u001b[39;49m\u001b[38;5;124;43mgoog\u001b[39;49m\u001b[38;5;124;43m\"\u001b[39;49m\u001b[43m,\u001b[49m\n\u001b[0;32m     48\u001b[0m \u001b[43m    \u001b[49m\u001b[43moptions\u001b[49m\u001b[38;5;241;43m=\u001b[39;49m\u001b[43moptions\u001b[49m\u001b[43m,\u001b[49m\n\u001b[0;32m     49\u001b[0m \u001b[43m    \u001b[49m\u001b[43mservice\u001b[49m\u001b[38;5;241;43m=\u001b[39;49m\u001b[43mservice\u001b[49m\u001b[43m,\u001b[49m\n\u001b[0;32m     50\u001b[0m \u001b[43m    \u001b[49m\u001b[43mkeep_alive\u001b[49m\u001b[38;5;241;43m=\u001b[39;49m\u001b[43mkeep_alive\u001b[49m\u001b[43m,\u001b[49m\n\u001b[0;32m     51\u001b[0m \u001b[43m\u001b[49m\u001b[43m)\u001b[49m\n",
      "File \u001b[1;32mc:\\Users\\aishw\\anaconda3\\envs\\ds\\lib\\site-packages\\selenium\\webdriver\\chromium\\webdriver.py:50\u001b[0m, in \u001b[0;36mChromiumDriver.__init__\u001b[1;34m(self, browser_name, vendor_prefix, options, service, keep_alive)\u001b[0m\n\u001b[0;32m     47\u001b[0m \u001b[38;5;28mself\u001b[39m\u001b[38;5;241m.\u001b[39mservice \u001b[38;5;241m=\u001b[39m service\n\u001b[0;32m     49\u001b[0m finder \u001b[38;5;241m=\u001b[39m DriverFinder(\u001b[38;5;28mself\u001b[39m\u001b[38;5;241m.\u001b[39mservice, options)\n\u001b[1;32m---> 50\u001b[0m \u001b[38;5;28;01mif\u001b[39;00m \u001b[43mfinder\u001b[49m\u001b[38;5;241;43m.\u001b[39;49m\u001b[43mget_browser_path\u001b[49m\u001b[43m(\u001b[49m\u001b[43m)\u001b[49m:\n\u001b[0;32m     51\u001b[0m     options\u001b[38;5;241m.\u001b[39mbinary_location \u001b[38;5;241m=\u001b[39m finder\u001b[38;5;241m.\u001b[39mget_browser_path()\n\u001b[0;32m     52\u001b[0m     options\u001b[38;5;241m.\u001b[39mbrowser_version \u001b[38;5;241m=\u001b[39m \u001b[38;5;28;01mNone\u001b[39;00m\n",
      "File \u001b[1;32mc:\\Users\\aishw\\anaconda3\\envs\\ds\\lib\\site-packages\\selenium\\webdriver\\common\\driver_finder.py:47\u001b[0m, in \u001b[0;36mDriverFinder.get_browser_path\u001b[1;34m(self)\u001b[0m\n\u001b[0;32m     46\u001b[0m \u001b[38;5;28;01mdef\u001b[39;00m \u001b[38;5;21mget_browser_path\u001b[39m(\u001b[38;5;28mself\u001b[39m) \u001b[38;5;241m-\u001b[39m\u001b[38;5;241m>\u001b[39m \u001b[38;5;28mstr\u001b[39m:\n\u001b[1;32m---> 47\u001b[0m     \u001b[38;5;28;01mreturn\u001b[39;00m \u001b[38;5;28;43mself\u001b[39;49m\u001b[38;5;241;43m.\u001b[39;49m\u001b[43m_binary_paths\u001b[49m\u001b[43m(\u001b[49m\u001b[43m)\u001b[49m[\u001b[38;5;124m\"\u001b[39m\u001b[38;5;124mbrowser_path\u001b[39m\u001b[38;5;124m\"\u001b[39m]\n",
      "File \u001b[1;32mc:\\Users\\aishw\\anaconda3\\envs\\ds\\lib\\site-packages\\selenium\\webdriver\\common\\driver_finder.py:78\u001b[0m, in \u001b[0;36mDriverFinder._binary_paths\u001b[1;34m(self)\u001b[0m\n\u001b[0;32m     76\u001b[0m \u001b[38;5;28;01mexcept\u001b[39;00m \u001b[38;5;167;01mException\u001b[39;00m \u001b[38;5;28;01mas\u001b[39;00m err:\n\u001b[0;32m     77\u001b[0m     msg \u001b[38;5;241m=\u001b[39m \u001b[38;5;124mf\u001b[39m\u001b[38;5;124m\"\u001b[39m\u001b[38;5;124mUnable to obtain driver for \u001b[39m\u001b[38;5;132;01m{\u001b[39;00mbrowser\u001b[38;5;132;01m}\u001b[39;00m\u001b[38;5;124m\"\u001b[39m\n\u001b[1;32m---> 78\u001b[0m     \u001b[38;5;28;01mraise\u001b[39;00m NoSuchDriverException(msg) \u001b[38;5;28;01mfrom\u001b[39;00m \u001b[38;5;21;01merr\u001b[39;00m\n\u001b[0;32m     79\u001b[0m \u001b[38;5;28;01mreturn\u001b[39;00m \u001b[38;5;28mself\u001b[39m\u001b[38;5;241m.\u001b[39m_paths\n",
      "\u001b[1;31mNoSuchDriverException\u001b[0m: Message: Unable to obtain driver for chrome; For documentation on this error, please visit: https://www.selenium.dev/documentation/webdriver/troubleshooting/errors/driver_location\n"
     ]
    }
   ],
   "source": [
    "from selenium import webdriver\n",
    "from selenium.webdriver.chrome.service import Service\n",
    "\n",
    "# Specify the path to the ChromeDriver executable\n",
    "chrome_driver_path = \"C:/webDrivers/chromedriver.exe\"\n",
    "\n",
    "# Create a service object for ChromeDriver\n",
    "service = Service(executable_path=chrome_driver_path)\n",
    "\n",
    "# Initialize the WebDriver with the service\n",
    "driver = webdriver.Chrome(service=service)\n",
    "\n",
    "# Now you can use the driver as usual\n"
   ]
  },
  {
   "cell_type": "code",
   "execution_count": 6,
   "id": "e7134167",
   "metadata": {},
   "outputs": [
    {
     "data": {
      "text/plain": [
       "(26, 26)"
      ]
     },
     "execution_count": 6,
     "metadata": {},
     "output_type": "execute_result"
    }
   ],
   "source": [
    "len(all_year), len(years)  #to confirm you got all the years(first and second page)\n",
    "#should be the same"
   ]
  },
  {
   "cell_type": "markdown",
   "id": "cbe9ff6f",
   "metadata": {},
   "source": [
    "###### use the code below to get index and year so that looping through the files will be easier"
   ]
  },
  {
   "cell_type": "code",
   "execution_count": 7,
   "id": "246c8ce2",
   "metadata": {},
   "outputs": [],
   "source": [
    "year_index = (list(enumerate(years)))\n",
    "dc = year_index"
   ]
  },
  {
   "cell_type": "markdown",
   "id": "ca844cb5",
   "metadata": {},
   "source": [
    "###### use the code to ge the observation for all the books in the top 100 for every year with the period of 2009-2021"
   ]
  },
  {
   "cell_type": "code",
   "execution_count": 8,
   "id": "2fc023f4",
   "metadata": {},
   "outputs": [],
   "source": [
    "data = [] #create an empty list for the observation for all the books in the top 100 for every year with the period of 2009-2022\n",
    "for i in dc:   #loop through the year index in the cell above\n",
    "    for books in all_year[i[0]]:             #loop through the books for all the years\n",
    "        for book in books:                   #loop through the books for on each page\n",
    "            data.append(get_dir(book,i[1]))  # get the details of each book and add to data(line 1)\n",
    "            \n",
    "#data #to print the data collected"
   ]
  },
  {
   "cell_type": "code",
   "execution_count": 9,
   "id": "181ffc1b",
   "metadata": {},
   "outputs": [
    {
     "name": "stdout",
     "output_type": "stream",
     "text": [
      "File written successfully\n"
     ]
    }
   ],
   "source": [
    "\n",
    "# open file\n",
    "with open('Amazon.txt', 'w+') as f:\n",
    "     \n",
    "    # write elements of list\n",
    "    for items in data: \n",
    "        try:\n",
    "            f.write('%s\\n' %items)\n",
    "        except Exception as e:\n",
    "            f.write('%s\\n' 'nothing')\n",
    "     \n",
    "    print(\"File written successfully\")\n",
    " \n",
    " \n",
    "# close the file\n",
    "f.close()"
   ]
  },
  {
   "cell_type": "markdown",
   "id": "a6463fc0",
   "metadata": {},
   "source": [
    "###### This cell is for converting the data extracted in list format to a dataframe"
   ]
  },
  {
   "cell_type": "code",
   "execution_count": 10,
   "id": "d803bb18",
   "metadata": {},
   "outputs": [],
   "source": [
    "best_selling_books= pd.DataFrame(data, columns = [\n",
    "                         'price',\n",
    "                         'ranks',\n",
    "                         'title',\n",
    "                         'no_of_reviews',\n",
    "                         'ratings',\n",
    "                         'author',\n",
    "                       'cover_type',\n",
    "                          'year'])\n"
   ]
  },
  {
   "cell_type": "markdown",
   "id": "f1990d51",
   "metadata": {},
   "source": [
    "###### save the data to csv file"
   ]
  },
  {
   "cell_type": "code",
   "execution_count": 11,
   "id": "e5cb7fc9",
   "metadata": {},
   "outputs": [],
   "source": [
    "best_selling_books.to_csv('best_selling_books_2009-2021.csv')   #To save to csv"
   ]
  },
  {
   "cell_type": "code",
   "execution_count": 12,
   "id": "3a1ed394",
   "metadata": {
    "scrolled": true
   },
   "outputs": [
    {
     "data": {
      "text/html": [
       "<div>\n",
       "<style scoped>\n",
       "    .dataframe tbody tr th:only-of-type {\n",
       "        vertical-align: middle;\n",
       "    }\n",
       "\n",
       "    .dataframe tbody tr th {\n",
       "        vertical-align: top;\n",
       "    }\n",
       "\n",
       "    .dataframe thead th {\n",
       "        text-align: right;\n",
       "    }\n",
       "</style>\n",
       "<table border=\"1\" class=\"dataframe\">\n",
       "  <thead>\n",
       "    <tr style=\"text-align: right;\">\n",
       "      <th></th>\n",
       "      <th>price</th>\n",
       "      <th>ranks</th>\n",
       "      <th>title</th>\n",
       "      <th>no_of_reviews</th>\n",
       "      <th>ratings</th>\n",
       "      <th>author</th>\n",
       "      <th>cover_type</th>\n",
       "      <th>year</th>\n",
       "    </tr>\n",
       "  </thead>\n",
       "  <tbody>\n",
       "    <tr>\n",
       "      <th>0</th>\n",
       "      <td>12.81</td>\n",
       "      <td>1</td>\n",
       "      <td>The Lost Symbol</td>\n",
       "      <td>16,129</td>\n",
       "      <td>4.4</td>\n",
       "      <td>Dan Brown</td>\n",
       "      <td>Hardcover</td>\n",
       "      <td>2009</td>\n",
       "    </tr>\n",
       "    <tr>\n",
       "      <th>1</th>\n",
       "      <td>10.43</td>\n",
       "      <td>2</td>\n",
       "      <td>The Shack: Where Tragedy Confronts Eternity</td>\n",
       "      <td>23,398</td>\n",
       "      <td>4.7</td>\n",
       "      <td>William P. Young</td>\n",
       "      <td>Paperback</td>\n",
       "      <td>2009</td>\n",
       "    </tr>\n",
       "    <tr>\n",
       "      <th>2</th>\n",
       "      <td>9.93</td>\n",
       "      <td>3</td>\n",
       "      <td>Liberty and Tyranny: A Conservative Manifesto</td>\n",
       "      <td>5,037</td>\n",
       "      <td>4.8</td>\n",
       "      <td>Mark R. Levin</td>\n",
       "      <td>Hardcover</td>\n",
       "      <td>2009</td>\n",
       "    </tr>\n",
       "    <tr>\n",
       "      <th>3</th>\n",
       "      <td>14.30</td>\n",
       "      <td>4</td>\n",
       "      <td>Breaking Dawn (The Twilight Saga, Book 4)</td>\n",
       "      <td>16,923</td>\n",
       "      <td>4.7</td>\n",
       "      <td>Stephenie Meyer</td>\n",
       "      <td>Hardcover</td>\n",
       "      <td>2009</td>\n",
       "    </tr>\n",
       "    <tr>\n",
       "      <th>4</th>\n",
       "      <td>9.99</td>\n",
       "      <td>5</td>\n",
       "      <td>Going Rogue: An American Life</td>\n",
       "      <td>1,572</td>\n",
       "      <td>4.6</td>\n",
       "      <td>Sarah Palin</td>\n",
       "      <td>Hardcover</td>\n",
       "      <td>2009</td>\n",
       "    </tr>\n",
       "    <tr>\n",
       "      <th>...</th>\n",
       "      <td>...</td>\n",
       "      <td>...</td>\n",
       "      <td>...</td>\n",
       "      <td>...</td>\n",
       "      <td>...</td>\n",
       "      <td>...</td>\n",
       "      <td>...</td>\n",
       "      <td>...</td>\n",
       "    </tr>\n",
       "    <tr>\n",
       "      <th>1286</th>\n",
       "      <td>16.69</td>\n",
       "      <td>96</td>\n",
       "      <td>Will</td>\n",
       "      <td>Will Smith</td>\n",
       "      <td>4.8</td>\n",
       "      <td>NaN</td>\n",
       "      <td>Hardcover</td>\n",
       "      <td>2021</td>\n",
       "    </tr>\n",
       "    <tr>\n",
       "      <th>1287</th>\n",
       "      <td>7.49</td>\n",
       "      <td>97</td>\n",
       "      <td>Think and Grow Rich: The Landmark Bestseller N...</td>\n",
       "      <td>83,367</td>\n",
       "      <td>4.7</td>\n",
       "      <td>Napoleon Hill</td>\n",
       "      <td>Paperback</td>\n",
       "      <td>2021</td>\n",
       "    </tr>\n",
       "    <tr>\n",
       "      <th>1288</th>\n",
       "      <td>8.95</td>\n",
       "      <td>98</td>\n",
       "      <td>Dragons Love Tacos</td>\n",
       "      <td>15,771</td>\n",
       "      <td>4.8</td>\n",
       "      <td>Adam Rubin</td>\n",
       "      <td>Hardcover</td>\n",
       "      <td>2021</td>\n",
       "    </tr>\n",
       "    <tr>\n",
       "      <th>1289</th>\n",
       "      <td>7.49</td>\n",
       "      <td>99</td>\n",
       "      <td>The Truth About COVID-19: Exposing The Great R...</td>\n",
       "      <td>Doctor Joseph Mercola</td>\n",
       "      <td>4.8</td>\n",
       "      <td>NaN</td>\n",
       "      <td>Hardcover</td>\n",
       "      <td>2021</td>\n",
       "    </tr>\n",
       "    <tr>\n",
       "      <th>1290</th>\n",
       "      <td>13.29</td>\n",
       "      <td>100</td>\n",
       "      <td>First Little Readers Parent Pack: Guided Readi...</td>\n",
       "      <td>27,350</td>\n",
       "      <td>4.7</td>\n",
       "      <td>Deborah Schecter</td>\n",
       "      <td>Paperback</td>\n",
       "      <td>2021</td>\n",
       "    </tr>\n",
       "  </tbody>\n",
       "</table>\n",
       "<p>1291 rows × 8 columns</p>\n",
       "</div>"
      ],
      "text/plain": [
       "      price ranks                                              title          no_of_reviews ratings            author cover_type  year\n",
       "0     12.81     1                                    The Lost Symbol                 16,129     4.4         Dan Brown  Hardcover  2009\n",
       "1     10.43     2        The Shack: Where Tragedy Confronts Eternity                 23,398     4.7  William P. Young  Paperback  2009\n",
       "2      9.93     3      Liberty and Tyranny: A Conservative Manifesto                  5,037     4.8     Mark R. Levin  Hardcover  2009\n",
       "3     14.30     4          Breaking Dawn (The Twilight Saga, Book 4)                 16,923     4.7   Stephenie Meyer  Hardcover  2009\n",
       "4      9.99     5                      Going Rogue: An American Life                  1,572     4.6       Sarah Palin  Hardcover  2009\n",
       "...     ...   ...                                                ...                    ...     ...               ...        ...   ...\n",
       "1286  16.69    96                                               Will             Will Smith     4.8               NaN  Hardcover  2021\n",
       "1287   7.49    97  Think and Grow Rich: The Landmark Bestseller N...                 83,367     4.7     Napoleon Hill  Paperback  2021\n",
       "1288   8.95    98                                 Dragons Love Tacos                 15,771     4.8        Adam Rubin  Hardcover  2021\n",
       "1289   7.49    99  The Truth About COVID-19: Exposing The Great R...  Doctor Joseph Mercola     4.8               NaN  Hardcover  2021\n",
       "1290  13.29   100  First Little Readers Parent Pack: Guided Readi...                 27,350     4.7  Deborah Schecter  Paperback  2021\n",
       "\n",
       "[1291 rows x 8 columns]"
      ]
     },
     "execution_count": 12,
     "metadata": {},
     "output_type": "execute_result"
    }
   ],
   "source": [
    "best_selling_books"
   ]
  },
  {
   "cell_type": "markdown",
   "id": "ee335960",
   "metadata": {},
   "source": [
    "###### This will be the end of this notebook.\n",
    "\n",
    "We will continue with the Analysis in Part Two Notebook. This is so that we won't keep scrapping the data from Amazon whenever we want to rerun the whole body of code for uniformity.\n",
    "\n",
    "We would also want to respect the ethics of web scrapping."
   ]
  },
  {
   "cell_type": "code",
   "execution_count": null,
   "id": "b915e2a7",
   "metadata": {},
   "outputs": [],
   "source": []
  },
  {
   "cell_type": "code",
   "execution_count": null,
   "id": "ec3a2759",
   "metadata": {},
   "outputs": [],
   "source": []
  }
 ],
 "metadata": {
  "kernelspec": {
   "display_name": "ds",
   "language": "python",
   "name": "python3"
  },
  "language_info": {
   "codemirror_mode": {
    "name": "ipython",
    "version": 3
   },
   "file_extension": ".py",
   "mimetype": "text/x-python",
   "name": "python",
   "nbconvert_exporter": "python",
   "pygments_lexer": "ipython3",
   "version": "3.10.9"
  },
  "toc": {
   "base_numbering": 1,
   "nav_menu": {},
   "number_sections": true,
   "sideBar": true,
   "skip_h1_title": false,
   "title_cell": "Table of Contents",
   "title_sidebar": "Contents",
   "toc_cell": false,
   "toc_position": {},
   "toc_section_display": true,
   "toc_window_display": false
  },
  "varInspector": {
   "cols": {
    "lenName": 16,
    "lenType": 16,
    "lenVar": 40
   },
   "kernels_config": {
    "python": {
     "delete_cmd_postfix": "",
     "delete_cmd_prefix": "del ",
     "library": "var_list.py",
     "varRefreshCmd": "print(var_dic_list())"
    },
    "r": {
     "delete_cmd_postfix": ") ",
     "delete_cmd_prefix": "rm(",
     "library": "var_list.r",
     "varRefreshCmd": "cat(var_dic_list()) "
    }
   },
   "types_to_exclude": [
    "module",
    "function",
    "builtin_function_or_method",
    "instance",
    "_Feature"
   ],
   "window_display": false
  }
 },
 "nbformat": 4,
 "nbformat_minor": 5
}
